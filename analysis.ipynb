{
 "cells": [
  {
   "cell_type": "code",
   "execution_count": 7,
   "metadata": {},
   "outputs": [
    {
     "name": "stdout",
     "output_type": "stream",
     "text": [
      "The number of elements is 26\n"
     ]
    }
   ],
   "source": [
    "with open('data/VISAP.md', 'r') as f: md = f.read()\n",
    "pages = md.split(\"\\n\") # Split in pages\n",
    "\n",
    "print(f\"The number of elements is {len(pages)}\")"
   ]
  },
  {
   "cell_type": "code",
   "execution_count": 8,
   "metadata": {},
   "outputs": [
    {
     "name": "stdout",
     "output_type": "stream",
     "text": [
      "TF-IDF shape: (26, 252)\n"
     ]
    }
   ],
   "source": [
    "import spacy\n",
    "from sklearn.feature_extraction.text import TfidfVectorizer\n",
    "import numpy as np\n",
    "\n",
    "# --- 2) Lightweight NLP: noun/proper-noun lemmas only ---\n",
    "nlp = spacy.load(\"en_core_web_sm\", disable=[\"parser\",\"ner\",\"textcat\"])  # 'md' is lighter than 'lg'\n",
    "\n",
    "custom_stop = {}\n",
    "\n",
    "docs = list(nlp.pipe(pages, batch_size=50, n_process=2))\n",
    "\n",
    "def doc_to_terms(doc):\n",
    "    out = []\n",
    "    for tok in doc:\n",
    "        if tok.is_alpha and tok.pos_ in {\"NOUN\",\"PROPN\"}:\n",
    "            lemma = tok.lemma_.lower()\n",
    "            if len(lemma) > 2 and lemma not in custom_stop:\n",
    "                out.append(lemma)\n",
    "    return out\n",
    "\n",
    "tokenized = [doc_to_terms(d) for d in docs]\n",
    "texts = [\" \".join(toks) for toks in tokenized]  # pre-tokenized → string for vectorizer\n",
    "\n",
    "# --- 3) TF-IDF matrix ---\n",
    "tfidf = TfidfVectorizer(min_df=2, max_df=0.9, ngram_range=(1,1), dtype=np.float32)\n",
    "X = tfidf.fit_transform(texts)\n",
    "print(f\"TF-IDF shape: {X.shape}\")"
   ]
  },
  {
   "cell_type": "code",
   "execution_count": 11,
   "metadata": {},
   "outputs": [
    {
     "name": "stdout",
     "output_type": "stream",
     "text": [
      "Saved: visap_map.svg\n"
     ]
    },
    {
     "name": "stderr",
     "output_type": "stream",
     "text": [
      "/opt/homebrew/Caskroom/miniconda/base/envs/Lexical-Map/lib/python3.11/site-packages/umap/umap_.py:1952: UserWarning: n_jobs value 1 overridden to 1 by setting random_state. Use no seed for parallelism.\n",
      "  warn(\n"
     ]
    }
   ],
   "source": [
    "import re\n",
    "import matplotlib.pyplot as plt\n",
    "import matplotlib as mpl\n",
    "import umap\n",
    "\n",
    "# keep text as text in SVG (better for print/editing)\n",
    "mpl.rcParams['svg.fonttype'] = 'none'\n",
    "\n",
    "# ---- labels (as you have) ----\n",
    "max_len = 25\n",
    "labels = []\n",
    "for i, text in enumerate(pages):\n",
    "    m = re.match(r'^\\*\\*(.+?)\\*\\*', text)\n",
    "    if m:\n",
    "        label = m.group(1).strip()\n",
    "        if len(label) > max_len:\n",
    "            label = label[:max_len - 1].rstrip() + \"…\"\n",
    "    else:\n",
    "        label = str(i + 1)\n",
    "    labels.append(label)\n",
    "\n",
    "# ---- UMAP (as you have) ----\n",
    "reducer = umap.UMAP(n_neighbors=15, min_dist=0.1, metric=\"cosine\", random_state=42)\n",
    "emb = reducer.fit_transform(X)\n",
    "\n",
    "# ---- draw ----\n",
    "fig = plt.figure(figsize=(8, 6))\n",
    "ax = plt.gca()\n",
    "ax.scatter(emb[:, 0], emb[:, 1], s=30, c='royalblue', alpha=0.7, edgecolors='white')\n",
    "\n",
    "for i, label in enumerate(labels):\n",
    "    ax.text(emb[i, 0] + 0.005, emb[i, 1] + 0.04, label, fontsize=8, color='black')\n",
    "\n",
    "ax.axis('off')\n",
    "fig.tight_layout()\n",
    "\n",
    "# ---- save as SVG ----\n",
    "out_path = \"visap_map.svg\"\n",
    "plt.savefig(out_path, format=\"svg\", bbox_inches=\"tight\")\n",
    "plt.close(fig)\n",
    "\n",
    "print(f\"Saved: {out_path}\")"
   ]
  },
  {
   "cell_type": "code",
   "execution_count": null,
   "metadata": {},
   "outputs": [],
   "source": []
  }
 ],
 "metadata": {
  "kernelspec": {
   "display_name": "Lexical-Map",
   "language": "python",
   "name": "python3"
  },
  "language_info": {
   "codemirror_mode": {
    "name": "ipython",
    "version": 3
   },
   "file_extension": ".py",
   "mimetype": "text/x-python",
   "name": "python",
   "nbconvert_exporter": "python",
   "pygments_lexer": "ipython3",
   "version": "3.11.14"
  },
  "orig_nbformat": 2
 },
 "nbformat": 4,
 "nbformat_minor": 2
}
